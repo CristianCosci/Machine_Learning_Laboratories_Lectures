{
 "cells": [
  {
   "cell_type": "markdown",
   "id": "1dc8375f",
   "metadata": {},
   "source": [
    "# 📌 Building a Neural Network from Scratch using only Numpy"
   ]
  },
  {
   "cell_type": "code",
   "execution_count": 16,
   "id": "c4d22f43-5598-4c13-95df-481504bed7cd",
   "metadata": {},
   "outputs": [],
   "source": [
    "import numpy as np\n",
    "import pandas as pd\n",
    "from matplotlib import pyplot as plt\n",
    "\n",
    "import os\n",
    "import zipfile"
   ]
  },
  {
   "cell_type": "code",
   "execution_count": 3,
   "id": "ae1eeb31-4cf8-49aa-9bfb-38f31411579f",
   "metadata": {},
   "outputs": [],
   "source": [
    "directory = 'dataset/'\n",
    "files = os.listdir(directory)"
   ]
  },
  {
   "cell_type": "code",
   "execution_count": 4,
   "id": "82499de1-aef3-483d-aa9b-2eb67204ab6c",
   "metadata": {},
   "outputs": [],
   "source": [
    "with zipfile.ZipFile(directory + 'train.csv.zip', 'r') as zip:\n",
    "    zip.extractall('dataset/')"
   ]
  },
  {
   "cell_type": "code",
   "execution_count": 5,
   "id": "e72ffd08-70e7-4589-90a3-d9f59ca20dc8",
   "metadata": {},
   "outputs": [],
   "source": [
    "# Loading the csv using pandas"
   ]
  },
  {
   "cell_type": "code",
   "execution_count": null,
   "id": "e99908c4-e346-4045-9864-b3bbc50978aa",
   "metadata": {},
   "outputs": [],
   "source": [
    "data.head()"
   ]
  },
  {
   "cell_type": "code",
   "execution_count": 8,
   "id": "dc2f1ad5-8025-44bb-859a-cb9213da4a93",
   "metadata": {},
   "outputs": [],
   "source": [
    "data = np.array(data)\n",
    "m, n = data.shape\n",
    "np.random.shuffle(data)"
   ]
  },
  {
   "cell_type": "code",
   "execution_count": 9,
   "id": "acdf980e",
   "metadata": {},
   "outputs": [],
   "source": [
    "# Create train and test split and preprocess the images"
   ]
  },
  {
   "cell_type": "code",
   "execution_count": 11,
   "id": "455d1a3e-495f-4265-a851-01b79177f41b",
   "metadata": {},
   "outputs": [
    {
     "data": {
      "text/plain": [
       "(784,)"
      ]
     },
     "execution_count": 11,
     "metadata": {},
     "output_type": "execute_result"
    }
   ],
   "source": [
    "X_train[:, 0].shape"
   ]
  },
  {
   "cell_type": "code",
   "execution_count": null,
   "id": "b164f07b",
   "metadata": {},
   "outputs": [],
   "source": [
    "# Plot an example image"
   ]
  },
  {
   "cell_type": "markdown",
   "id": "b76ab537",
   "metadata": {},
   "source": [
    "### Some information\n",
    "Our NN will have a simple two-layer architecture:\n",
    "-  Input layer $A^{[0]}$ will have 784 units corresponding to the 784 pixels in each 28x28x1 input image;\n",
    "- A hidden layer $A^{[1]}$ will have 10 units with ReLU activation; \n",
    "- the output layer $a^{[2]}$ will have 10 units corresponding to the 10-digit classes with softmax activation.\n",
    "\n",
    "\n",
    "In order to have a NN with good accuracy performance in prediction we have to implement 3 main phases that will compose the training algorithm:\n",
    "- **Forward propagation**\n",
    "- **Backward propagation**\n",
    "- **Parameter updates**"
   ]
  },
  {
   "cell_type": "markdown",
   "id": "6e8eaf4e",
   "metadata": {},
   "source": [
    "### Parameters initialization"
   ]
  },
  {
   "cell_type": "code",
   "execution_count": 14,
   "id": "5859c12f",
   "metadata": {},
   "outputs": [],
   "source": [
    "def init_params():\n",
    "    W1 = np.random.normal(size=(10, 784)) * np.sqrt(1./(784))\n",
    "    b1 = np.random.normal(size=(10, 1)) * np.sqrt(1./10)\n",
    "    W2 = np.random.normal(size=(10, 10)) * np.sqrt(1./10)\n",
    "    b2 = np.random.normal(size=(10, 1)) * np.sqrt(1./(10))\n",
    "    return W1, b1, W2, b2"
   ]
  },
  {
   "cell_type": "markdown",
   "id": "154dd050",
   "metadata": {},
   "source": [
    "### Utilities Function"
   ]
  },
  {
   "cell_type": "code",
   "execution_count": 19,
   "id": "eeb7695e",
   "metadata": {},
   "outputs": [],
   "source": [
    "def ReLU(Z):\n",
    "    pass\n",
    "\n",
    "\n",
    "def ReLU_derivative(Z):\n",
    "    pass\n",
    "\n",
    "\n",
    "def softmax(Z):\n",
    "    pass\n",
    "\n",
    "\n",
    "def one_hot(Y):\n",
    "    one_hot_Y = np.zeros((Y.size, Y.max() + 1))\n",
    "    one_hot_Y[np.arange(Y.size), Y] = 1\n",
    "    one_hot_Y = one_hot_Y.T\n",
    "    return one_hot_Y"
   ]
  },
  {
   "cell_type": "markdown",
   "id": "9563e329",
   "metadata": {},
   "source": [
    "### Training Phase\n",
    "\n",
    "**Forward propagation**\n",
    "\n",
    "$$Z^{[1]} = W^{[1]} X + b^{[1]}$$\n",
    "$$A^{[1]} = g_{\\text{ReLU}}(Z^{[1]}))$$\n",
    "$$Z^{[2]} = W^{[2]} A^{[1]} + b^{[2]}$$\n",
    "$$A^{[2]} = g_{\\text{softmax}}(Z^{[2]})$$\n",
    "\n",
    "**Backward propagation**\n",
    "\n",
    "$$dZ^{[2]} = A^{[2]} - Y$$\n",
    "$$dW^{[2]} = \\frac{1}{m} dZ^{[2]} A^{[1]T}$$\n",
    "$$dB^{[2]} = \\frac{1}{m} \\Sigma {dZ^{[2]}}$$\n",
    "$$dZ^{[1]} = W^{[2]T} dZ^{[2]} .* g^{[1]\\prime} (z^{[1]})$$\n",
    "$$dW^{[1]} = \\frac{1}{m} dZ^{[1]} A^{[0]T}$$\n",
    "$$dB^{[1]} = \\frac{1}{m} \\Sigma {dZ^{[1]}}$$\n",
    "\n",
    "**Parameter updates**\n",
    "\n",
    "$$W^{[2]} := W^{[2]} - \\alpha dW^{[2]}$$\n",
    "$$b^{[2]} := b^{[2]} - \\alpha db^{[2]}$$\n",
    "$$W^{[1]} := W^{[1]} - \\alpha dW^{[1]}$$\n",
    "$$b^{[1]} := b^{[1]} - \\alpha db^{[1]}$$"
   ]
  },
  {
   "cell_type": "code",
   "execution_count": 10,
   "id": "de32bc72-05a6-4726-be9f-0baadb0a30ae",
   "metadata": {},
   "outputs": [],
   "source": [
    "def forward_propagation(W1, b1, W2, b2, X):\n",
    "    # Z1 = \n",
    "    # A1 = \n",
    "    # Z2 = \n",
    "    # A2 = \n",
    "    return #Z1, A1, Z2, A2\n",
    "\n",
    "\n",
    "\n",
    "def backward_propagation(Z1, A1, Z2, A2, W1, W2, X, Y):\n",
    "    pass\n",
    "\n",
    "\n",
    "def update_params(W1, b1, W2, b2, dW1, db1, dW2, db2, alpha):\n",
    "    # W1 = \n",
    "    # b1 = \n",
    "    \n",
    "    # W2 =  \n",
    "    # b2 =\n",
    "\n",
    "    return # W1, b1, W2, b2\n",
    "\n",
    "\n",
    "def get_predictions(A2):\n",
    "    pass\n",
    "\n",
    "\n",
    "def get_accuracy(predictions, Y):\n",
    "    pass\n",
    "\n",
    "\n",
    "def gradient_descent(X, Y, alpha, iterations):\n",
    "    pass\n"
   ]
  },
  {
   "cell_type": "markdown",
   "id": "b867580f",
   "metadata": {},
   "source": [
    "**Shapes**\n",
    "\n",
    "- Forward propagation\n",
    "    - $A^{[0]} = X$: 784 x m\n",
    "    - $Z^{[1]} \\sim A^{[1]}$: 10 x m\n",
    "    - $W^{[1]}$: 10 x 784 (as $W^{[1]} A^{[0]} \\sim Z^{[1]}$)\n",
    "    - $B^{[1]}$: 10 x 1\n",
    "    - $Z^{[2]} \\sim A^{[2]}$: 10 x m\n",
    "    - $W^{[1]}$: 10 x 10 (as $W^{[2]} A^{[1]} \\sim Z^{[2]}$)\n",
    "    - $B^{[2]}$: 10 x 1\n",
    "\n",
    "- Backpropagation\n",
    "    - $dZ^{[2]}$: 10 x m ($~A^{[2]}$)\n",
    "    - $dW^{[2]}$: 10 x 10\n",
    "    - $dB^{[2]}$: 10 x 1\n",
    "    - $dZ^{[1]}$: 10 x m ($~A^{[1]}$)\n",
    "    - $dW^{[1]}$: 10 x 10\n",
    "    - $dB^{[1]}$: 10 x 1"
   ]
  },
  {
   "cell_type": "markdown",
   "id": "1678b199",
   "metadata": {},
   "source": [
    "## Build the NN and make prediction"
   ]
  },
  {
   "cell_type": "code",
   "execution_count": null,
   "id": "e315e6d3",
   "metadata": {},
   "outputs": [],
   "source": [
    "# NN ="
   ]
  },
  {
   "cell_type": "markdown",
   "id": "275e7f69",
   "metadata": {},
   "source": [
    "### Make some predictions"
   ]
  },
  {
   "cell_type": "code",
   "execution_count": 12,
   "id": "c638b2bb",
   "metadata": {},
   "outputs": [],
   "source": [
    "def make_predictions(X, NN):\n",
    "    _, _, _, A2 = forward_propagation(NN[0], NN[1], NN[2], NN[3], X)\n",
    "    predictions = get_predictions(A2)\n",
    "    return predictions\n",
    "\n",
    "def test_prediction(index, NN):\n",
    "    current_image = X_train[:, index, None]\n",
    "    prediction = make_predictions(X_train[:, index, None], NN)\n",
    "    label = Y_train[index]\n",
    "    print(\"Prediction: \", prediction)\n",
    "    print(\"Label: \", label)\n",
    "    \n",
    "    current_image = current_image.reshape((28, 28)) * 255\n",
    "    plt.gray()\n",
    "    plt.imshow(current_image, interpolation='nearest')\n",
    "    plt.show()"
   ]
  },
  {
   "cell_type": "code",
   "execution_count": null,
   "id": "0abd0c8d",
   "metadata": {},
   "outputs": [],
   "source": [
    "test_prediction(0, NN)\n",
    "test_prediction(1, NN)\n",
    "test_prediction(2, NN)\n",
    "test_prediction(3, NN)"
   ]
  },
  {
   "cell_type": "markdown",
   "id": "a0378d15",
   "metadata": {},
   "source": [
    "### Accuracy on Test set"
   ]
  },
  {
   "cell_type": "code",
   "execution_count": null,
   "id": "80271ec7",
   "metadata": {},
   "outputs": [],
   "source": [
    "dev_predictions = make_predictions(X_test, NN)\n",
    "get_accuracy(dev_predictions, Y_test)"
   ]
  },
  {
   "cell_type": "markdown",
   "id": "fcdb466c",
   "metadata": {},
   "source": [
    "## Homework\n",
    "- Analyze the training phase\n",
    "    - plot the accuracy\n",
    "    - plot the loss function"
   ]
  }
 ],
 "metadata": {
  "kernelspec": {
   "display_name": "Python 3 (ipykernel)",
   "language": "python",
   "name": "python3"
  },
  "language_info": {
   "codemirror_mode": {
    "name": "ipython",
    "version": 3
   },
   "file_extension": ".py",
   "mimetype": "text/x-python",
   "name": "python",
   "nbconvert_exporter": "python",
   "pygments_lexer": "ipython3",
   "version": "3.10.12"
  }
 },
 "nbformat": 4,
 "nbformat_minor": 5
}
