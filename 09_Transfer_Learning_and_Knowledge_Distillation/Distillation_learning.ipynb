{
  "nbformat": 4,
  "nbformat_minor": 0,
  "metadata": {
    "colab": {
      "provenance": []
    },
    "kernelspec": {
      "name": "python3",
      "display_name": "Python 3"
    },
    "language_info": {
      "name": "python"
    }
  },
  "cells": [
    {
      "cell_type": "markdown",
      "source": [
        "# **Distillation Learning**"
      ],
      "metadata": {
        "id": "Tqv5dAj_qh5C"
      }
    },
    {
      "cell_type": "markdown",
      "source": [
        "### Setup"
      ],
      "metadata": {
        "id": "gi12dlKLqHZX"
      }
    },
    {
      "cell_type": "code",
      "source": [
        "import tensorflow as tf"
      ],
      "metadata": {
        "id": "nqDLpfbCyI23"
      },
      "execution_count": null,
      "outputs": []
    },
    {
      "cell_type": "markdown",
      "source": [
        "### Loading Data"
      ],
      "metadata": {
        "id": "vg0ShPtpqKqc"
      }
    },
    {
      "cell_type": "code",
      "source": [
        "# Load the data\n",
        "(x_train, y_train), (x_test, y_test) = tf.keras.datasets.mnist.load_data()\n",
        "\n",
        "# Preprocess the data\n",
        "x_train = x_train.reshape(-1, 784).astype('float32') / 255\n",
        "x_test = x_test.reshape(-1, 784).astype('float32') / 255\n",
        "y_train = tf.keras.utils.to_categorical(y_train)\n",
        "y_test = tf.keras.utils.to_categorical(y_test)"
      ],
      "metadata": {
        "id": "8dPEkEaG0_3G"
      },
      "execution_count": null,
      "outputs": []
    },
    {
      "cell_type": "markdown",
      "source": [
        "## **Create the models**"
      ],
      "metadata": {
        "id": "-wFxvZwwqOEz"
      }
    },
    {
      "cell_type": "code",
      "source": [
        "# Define the teacher model (a larger, more complex neural network)\n",
        "class TeacherModel(tf.keras.Model):\n",
        "    def __init__(self):\n",
        "        super(TeacherModel, self).__init__()\n",
        "        # Define the layers of the teacher model\n",
        "        self.layer1 = tf.keras.layers.Dense(512, input_shape=(784,), activation='relu')\n",
        "        self.layer2 = tf.keras.layers.Dense(256, activation='relu')\n",
        "        self.layer3 = tf.keras.layers.Dense(128, activation='relu')\n",
        "        self.layer4 = tf.keras.layers.Dense(64, activation='relu')\n",
        "        self.last   = tf.keras.layers.Dense(10, activation='softmax')\n",
        "\n",
        "    def call(self, x):\n",
        "        # Define the forward pass of the teacher model\n",
        "        x = self.layer1(x)\n",
        "        x = self.layer2(x)\n",
        "        x = self.layer3(x)\n",
        "        x = self.layer4(x)\n",
        "        return self.last(x)\n"
      ],
      "metadata": {
        "id": "TS74SfVyyFmI"
      },
      "execution_count": null,
      "outputs": []
    },
    {
      "cell_type": "code",
      "source": [
        "# Define the student model (a smaller, more efficient neural network)\n",
        "class StudentModel(tf.keras.Model):\n",
        "    def __init__(self):\n",
        "        super(StudentModel, self).__init__()\n",
        "        # Define the layers of the student model\n",
        "        self.layer1 = tf.keras.layers.Dense(128, input_shape=(784,), activation='relu')\n",
        "        self.layer2 = tf.keras.layers.Dense(64, activation='relu')\n",
        "        self.last = tf.keras.layers.Dense(10, activation='softmax')\n",
        "\n",
        "    def call(self, x):\n",
        "        # Define the forward pass of the student model\n",
        "        x = self.layer1(x)\n",
        "        x = self.layer2(x)\n",
        "        return self.last(x)"
      ],
      "metadata": {
        "id": "wJYiTuHpyMsf"
      },
      "execution_count": null,
      "outputs": []
    },
    {
      "cell_type": "code",
      "source": [
        "# Load the teacher model\n",
        "teacher_model = TeacherModel()\n",
        "\n",
        "# Define the loss function and optimizer\n",
        "loss_fn = tf.keras.losses.CategoricalCrossentropy()\n",
        "optimizer = tf.keras.optimizers.Adam()"
      ],
      "metadata": {
        "id": "Cpr6VlJ808GG"
      },
      "execution_count": null,
      "outputs": []
    },
    {
      "cell_type": "markdown",
      "source": [
        "### **Train the Teacher Model**"
      ],
      "metadata": {
        "id": "F-sq5RVDqTxK"
      }
    },
    {
      "cell_type": "code",
      "source": [
        "# Train the teacher model\n",
        "teacher_model.compile(optimizer=optimizer, loss=loss_fn, metrics=['accuracy'])\n",
        "teacher_model.fit(x_train, y_train, epochs=5, batch_size=32, validation_data=(x_test, y_test))"
      ],
      "metadata": {
        "id": "Nuw1ozP71LvN"
      },
      "execution_count": null,
      "outputs": []
    },
    {
      "cell_type": "markdown",
      "source": [
        "### **Train the Student Model**"
      ],
      "metadata": {
        "id": "3K3HT5cBqYxN"
      }
    },
    {
      "cell_type": "code",
      "source": [
        "# Load the student model\n",
        "student_model = StudentModel()\n",
        "\n",
        "# Freeze the teacher model layers\n",
        "for layer in teacher_model.layers:\n",
        "    layer.trainable = False"
      ],
      "metadata": {
        "id": "sDw_J_-H1bQf"
      },
      "execution_count": null,
      "outputs": []
    },
    {
      "cell_type": "code",
      "source": [
        "# Define the distillation loss function\n",
        "temp = 5\n",
        "def distillation_loss(y_true, y_pred):\n",
        "    y_true = tf.nn.softmax(y_true / temp)\n",
        "    y_pred = tf.nn.softmax(y_pred / temp)\n",
        "    return tf.reduce_mean(tf.keras.losses.categorical_crossentropy(y_true, y_pred))"
      ],
      "metadata": {
        "id": "5y2FFZ7X1p6W"
      },
      "execution_count": null,
      "outputs": []
    },
    {
      "cell_type": "code",
      "source": [
        "# Train the student model\n",
        "student_model.compile(optimizer=tf.keras.optimizers.legacy.Adam(), loss=distillation_loss, metrics=['accuracy'])\n",
        "student_model.fit(x_train, teacher_model.predict(x_train), epochs=5, batch_size=32, validation_data=(x_test, y_test))"
      ],
      "metadata": {
        "id": "yxNf7WOF14Ge"
      },
      "execution_count": null,
      "outputs": []
    },
    {
      "cell_type": "markdown",
      "source": [
        "### **Evaluate the Student model**"
      ],
      "metadata": {
        "id": "2xibg8veqdMQ"
      }
    },
    {
      "cell_type": "code",
      "execution_count": null,
      "metadata": {
        "id": "8QL9_sPjx9oB"
      },
      "outputs": [],
      "source": [
        "# Evaluate the student model\n",
        "test_loss, test_acc = student_model.evaluate(x_test, y_test)\n",
        "print('Test accuracy:', test_acc)"
      ]
    }
  ]
}